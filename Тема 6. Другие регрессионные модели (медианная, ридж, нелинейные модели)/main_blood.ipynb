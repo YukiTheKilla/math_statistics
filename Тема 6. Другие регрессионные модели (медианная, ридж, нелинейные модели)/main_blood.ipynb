{
 "cells": [
  {
   "cell_type": "code",
   "execution_count": 7,
   "metadata": {},
   "outputs": [],
   "source": [
    "import numpy as np\n",
    "import pandas as pd\n",
    "from sklearn.linear_model import RidgeCV\n",
    "from sklearn.model_selection import train_test_split\n",
    "import matplotlib.pyplot as plt\n",
    "from sklearn.linear_model import Ridge\n",
    "from statsmodels.stats.outliers_influence import variance_inflation_factor\n",
    "from sklearn.preprocessing import StandardScaler\n",
    "import statsmodels.api as sm\n",
    "from sklearn.linear_model import RidgeCV\n",
    "from sklearn.metrics import mean_squared_error, r2_score\n",
    "from sklearn.utils import resample\n",
    "\n"
   ]
  },
  {
   "cell_type": "code",
   "execution_count": 8,
   "metadata": {},
   "outputs": [
    {
     "name": "stdout",
     "output_type": "stream",
     "text": [
      "(11, 3)\n"
     ]
    },
    {
     "data": {
      "text/html": [
       "<div>\n",
       "<style scoped>\n",
       "    .dataframe tbody tr th:only-of-type {\n",
       "        vertical-align: middle;\n",
       "    }\n",
       "\n",
       "    .dataframe tbody tr th {\n",
       "        vertical-align: top;\n",
       "    }\n",
       "\n",
       "    .dataframe thead th {\n",
       "        text-align: right;\n",
       "    }\n",
       "</style>\n",
       "<table border=\"1\" class=\"dataframe\">\n",
       "  <thead>\n",
       "    <tr style=\"text-align: right;\">\n",
       "      <th></th>\n",
       "      <th>x1</th>\n",
       "      <th>x2</th>\n",
       "      <th>x3</th>\n",
       "    </tr>\n",
       "  </thead>\n",
       "  <tbody>\n",
       "    <tr>\n",
       "      <th>0</th>\n",
       "      <td>132</td>\n",
       "      <td>52</td>\n",
       "      <td>173</td>\n",
       "    </tr>\n",
       "    <tr>\n",
       "      <th>1</th>\n",
       "      <td>143</td>\n",
       "      <td>59</td>\n",
       "      <td>184</td>\n",
       "    </tr>\n",
       "    <tr>\n",
       "      <th>2</th>\n",
       "      <td>153</td>\n",
       "      <td>67</td>\n",
       "      <td>194</td>\n",
       "    </tr>\n",
       "    <tr>\n",
       "      <th>3</th>\n",
       "      <td>162</td>\n",
       "      <td>73</td>\n",
       "      <td>211</td>\n",
       "    </tr>\n",
       "    <tr>\n",
       "      <th>4</th>\n",
       "      <td>154</td>\n",
       "      <td>64</td>\n",
       "      <td>196</td>\n",
       "    </tr>\n",
       "    <tr>\n",
       "      <th>5</th>\n",
       "      <td>168</td>\n",
       "      <td>74</td>\n",
       "      <td>220</td>\n",
       "    </tr>\n",
       "    <tr>\n",
       "      <th>6</th>\n",
       "      <td>137</td>\n",
       "      <td>54</td>\n",
       "      <td>188</td>\n",
       "    </tr>\n",
       "    <tr>\n",
       "      <th>7</th>\n",
       "      <td>149</td>\n",
       "      <td>61</td>\n",
       "      <td>188</td>\n",
       "    </tr>\n",
       "    <tr>\n",
       "      <th>8</th>\n",
       "      <td>159</td>\n",
       "      <td>65</td>\n",
       "      <td>207</td>\n",
       "    </tr>\n",
       "    <tr>\n",
       "      <th>9</th>\n",
       "      <td>128</td>\n",
       "      <td>46</td>\n",
       "      <td>167</td>\n",
       "    </tr>\n",
       "    <tr>\n",
       "      <th>10</th>\n",
       "      <td>166</td>\n",
       "      <td>72</td>\n",
       "      <td>217</td>\n",
       "    </tr>\n",
       "  </tbody>\n",
       "</table>\n",
       "</div>"
      ],
      "text/plain": [
       "     x1  x2   x3\n",
       "0   132  52  173\n",
       "1   143  59  184\n",
       "2   153  67  194\n",
       "3   162  73  211\n",
       "4   154  64  196\n",
       "5   168  74  220\n",
       "6   137  54  188\n",
       "7   149  61  188\n",
       "8   159  65  207\n",
       "9   128  46  167\n",
       "10  166  72  217"
      ]
     },
     "execution_count": 8,
     "metadata": {},
     "output_type": "execute_result"
    }
   ],
   "source": [
    "df = pd.read_excel(\"Задания/Datasets/blood.xlsx\")\n",
    "df.columns = ['x1', 'x2', 'x3']\n",
    "print(df.shape)\n",
    "df.head(20)"
   ]
  },
  {
   "cell_type": "code",
   "execution_count": 9,
   "metadata": {},
   "outputs": [
    {
     "name": "stdout",
     "output_type": "stream",
     "text": [
      "Optimal alpha value: 91.15888299750819\n",
      "Model coefficients: [0.53306645 0.43955921]\n",
      "Intercept: 31.36208109179171\n"
     ]
    },
    {
     "name": "stderr",
     "output_type": "stream",
     "text": [
      "/opt/anaconda3/envs/math_stat/lib/python3.11/site-packages/sklearn/linear_model/_ridge.py:2341: FutureWarning: 'store_cv_values' is deprecated in version 1.5 and will be removed in 1.7. Use 'store_cv_results' instead.\n",
      "  warnings.warn(\n",
      "/opt/anaconda3/envs/math_stat/lib/python3.11/site-packages/sklearn/utils/deprecation.py:102: FutureWarning: Attribute `cv_values_` is deprecated in version 1.5 and will be removed in 1.7. Use `cv_results_` instead.\n",
      "  warnings.warn(msg, category=FutureWarning)\n"
     ]
    },
    {
     "data": {
      "image/png": "[encoded data removed]",
      "text/plain": [
       "<Figure size 640x480 with 1 Axes>"
      ]
     },
     "metadata": {},
     "output_type": "display_data"
    },
    {
     "data": {
      "image/png": "[encoded data removed]",
      "text/plain": [
       "<Figure size 640x480 with 1 Axes>"
      ]
     },
     "metadata": {},
     "output_type": "display_data"
    }
   ],
   "source": [
    "# 1\n",
    "X = df.drop(['x1'], axis=1) \n",
    "y = df['x1'] \n",
    "X_train, X_test, y_train, y_test = train_test_split(X, y, test_size=0.3, random_state=42)\n",
    "\n",
    "# Hyperparameter tuning for alpha using cross-validation\n",
    "alphas = np.logspace(-6, 6, 200)  # Wide range of alpha values for searching\n",
    "ridge_cv = RidgeCV(alphas=alphas, store_cv_values=True)\n",
    "ridge_cv.fit(X_train, y_train)\n",
    "\n",
    "# Optimal alpha value\n",
    "optimal_alpha = ridge_cv.alpha_\n",
    "print(f'Optimal alpha value: {optimal_alpha}')\n",
    "\n",
    "print(f'Model coefficients: {ridge_cv.coef_}')\n",
    "print(f'Intercept: {ridge_cv.intercept_}')\n",
    "\n",
    "# cv.plot: Cross-validation error plot, plotting the error against alpha\n",
    "cv_errors = np.mean(ridge_cv.cv_values_, axis=0)\n",
    "\n",
    "plt.plot(alphas, cv_errors, label='Mean Cross-Validation Error')\n",
    "plt.axvline(ridge_cv.alpha_, linestyle='--', color='red', label=f'Optimal alpha = {ridge_cv.alpha_}')\n",
    "plt.xscale('log')\n",
    "plt.xlabel('Regularization Parameter (alpha)')\n",
    "plt.ylabel('Mean Error')\n",
    "plt.title('Cross-Validation Errors for Different Alpha Values (K Parameter)')\n",
    "plt.legend()\n",
    "plt.show()\n",
    "\n",
    "# bias.plot: Plotting the coefficients against the regularization parameter\n",
    "coefs = []\n",
    "for alpha in alphas:\n",
    "    ridge = Ridge(alpha=alpha)\n",
    "    ridge.fit(X_train, y_train)\n",
    "    coefs.append(ridge.coef_)\n",
    "\n",
    "plt.plot(alphas, coefs)\n",
    "plt.xscale('log')\n",
    "plt.xlabel('Regularization Parameter (alpha)')\n",
    "plt.ylabel('Model Coefficients')\n",
    "plt.title('Impact of Regularization on Model Coefficients')\n",
    "plt.legend(['X2', 'X3'])\n",
    "plt.show()"
   ]
  },
  {
   "cell_type": "markdown",
   "metadata": {},
   "source": [
    "### В процессе подбора параметра регуляризации (альфа) в ридж-регрессии, каждая кросс-валидация вычисляет ошибку модели для разных значений альфа. Именно на основании ошибок выбирается оптимальный параметр, который минимизирует ошибку.\n"
   ]
  },
  {
   "cell_type": "markdown",
   "metadata": {},
   "source": [
    "### Кросс-валидационные ошибки отражают, насколько точны предсказания модели на каждой итерации валидации, и чем меньше средняя ошибка, тем лучше модель способна предсказывать данные."
   ]
  },
  {
   "cell_type": "code",
   "execution_count": 10,
   "metadata": {},
   "outputs": [
    {
     "name": "stdout",
     "output_type": "stream",
     "text": [
      "  Feature       VIF\n",
      "0      x2  9.525022\n",
      "1      x3  9.525022\n"
     ]
    }
   ],
   "source": [
    "# 2\n",
    "# Standardization of data (VIF is better calculated on standardized data)\n",
    "scaler = StandardScaler()\n",
    "X_scaled = scaler.fit_transform(X)\n",
    "\n",
    "# Creating a DataFrame for VIF results\n",
    "vif_data = pd.DataFrame()\n",
    "vif_data[\"Feature\"] = X.columns\n",
    "vif_data[\"VIF\"] = [variance_inflation_factor(X_scaled, i) for i in range(X_scaled.shape[1])]\n",
    "\n",
    "print(vif_data)"
   ]
  },
  {
   "cell_type": "markdown",
   "metadata": {},
   "source": [
    "- VIF = 1: Нет корреляции между этим признаком и остальными.\n",
    "- 1 < VIF ≤ 5: Умеренная корреляция, не вызывает беспокойства.\n",
    "- VIF > 5: Высокая корреляция, возможна мультиколлинеарность.\n",
    "- VIF > 10: Сильная мультиколлинеарность, признаки могут быть слишком сильно коррелированы."
   ]
  },
  {
   "cell_type": "code",
   "execution_count": 11,
   "metadata": {},
   "outputs": [
    {
     "name": "stderr",
     "output_type": "stream",
     "text": [
      "/opt/anaconda3/envs/math_stat/lib/python3.11/site-packages/scipy/stats/_axis_nan_policy.py:531: UserWarning: kurtosistest only valid for n>=20 ... continuing anyway, n=11\n",
      "  res = hypotest_fun_out(*samples, **kwds)\n"
     ]
    },
    {
     "data": {
      "text/html": [
       "<table class=\"simpletable\">\n",
       "<caption>OLS Regression Results</caption>\n",
       "<tr>\n",
       "  <th>Dep. Variable:</th>           <td>x1</td>        <th>  R-squared (uncentered):</th>      <td>   1.000</td> \n",
       "</tr>\n",
       "<tr>\n",
       "  <th>Model:</th>                   <td>OLS</td>       <th>  Adj. R-squared (uncentered):</th> <td>   1.000</td> \n",
       "</tr>\n",
       "<tr>\n",
       "  <th>Method:</th>             <td>Least Squares</td>  <th>  F-statistic:       </th>          <td>1.418e+04</td>\n",
       "</tr>\n",
       "<tr>\n",
       "  <th>Date:</th>             <td>Wed, 23 Oct 2024</td> <th>  Prob (F-statistic):</th>          <td>1.80e-16</td> \n",
       "</tr>\n",
       "<tr>\n",
       "  <th>Time:</th>                 <td>15:10:39</td>     <th>  Log-Likelihood:    </th>          <td> -26.465</td> \n",
       "</tr>\n",
       "<tr>\n",
       "  <th>No. Observations:</th>      <td>    11</td>      <th>  AIC:               </th>          <td>   56.93</td> \n",
       "</tr>\n",
       "<tr>\n",
       "  <th>Df Residuals:</th>          <td>     9</td>      <th>  BIC:               </th>          <td>   57.72</td> \n",
       "</tr>\n",
       "<tr>\n",
       "  <th>Df Model:</th>              <td>     2</td>      <th>                     </th>              <td> </td>    \n",
       "</tr>\n",
       "<tr>\n",
       "  <th>Covariance Type:</th>      <td>nonrobust</td>    <th>                     </th>              <td> </td>    \n",
       "</tr>\n",
       "</table>\n",
       "<table class=\"simpletable\">\n",
       "<tr>\n",
       "   <td></td>     <th>coef</th>     <th>std err</th>      <th>t</th>      <th>P>|t|</th>  <th>[0.025</th>    <th>0.975]</th>  \n",
       "</tr>\n",
       "<tr>\n",
       "  <th>x2</th> <td>    0.3975</td> <td>    0.220</td> <td>    1.804</td> <td> 0.105</td> <td>   -0.101</td> <td>    0.896</td>\n",
       "</tr>\n",
       "<tr>\n",
       "  <th>x3</th> <td>    0.6419</td> <td>    0.071</td> <td>    9.041</td> <td> 0.000</td> <td>    0.481</td> <td>    0.802</td>\n",
       "</tr>\n",
       "</table>\n",
       "<table class=\"simpletable\">\n",
       "<tr>\n",
       "  <th>Omnibus:</th>       <td> 0.665</td> <th>  Durbin-Watson:     </th> <td>   2.603</td>\n",
       "</tr>\n",
       "<tr>\n",
       "  <th>Prob(Omnibus):</th> <td> 0.717</td> <th>  Jarque-Bera (JB):  </th> <td>   0.637</td>\n",
       "</tr>\n",
       "<tr>\n",
       "  <th>Skew:</th>          <td>-0.401</td> <th>  Prob(JB):          </th> <td>   0.727</td>\n",
       "</tr>\n",
       "<tr>\n",
       "  <th>Kurtosis:</th>      <td> 2.136</td> <th>  Cond. No.          </th> <td>    53.2</td>\n",
       "</tr>\n",
       "</table><br/><br/>Notes:<br/>[1] R² is computed without centering (uncentered) since the model does not contain a constant.<br/>[2] Standard Errors assume that the covariance matrix of the errors is correctly specified."
      ],
      "text/latex": [
       "\\begin{center}\n",
       "\\begin{tabular}{lclc}\n",
       "\\toprule\n",
       "\\textbf{Dep. Variable:}    &        x1        & \\textbf{  R-squared (uncentered):}      &     1.000   \\\\\n",
       "\\textbf{Model:}            &       OLS        & \\textbf{  Adj. R-squared (uncentered):} &     1.000   \\\\\n",
       "\\textbf{Method:}           &  Least Squares   & \\textbf{  F-statistic:       }          & 1.418e+04   \\\\\n",
       "\\textbf{Date:}             & Wed, 23 Oct 2024 & \\textbf{  Prob (F-statistic):}          &  1.80e-16   \\\\\n",
       "\\textbf{Time:}             &     15:10:39     & \\textbf{  Log-Likelihood:    }          &   -26.465   \\\\\n",
       "\\textbf{No. Observations:} &          11      & \\textbf{  AIC:               }          &     56.93   \\\\\n",
       "\\textbf{Df Residuals:}     &           9      & \\textbf{  BIC:               }          &     57.72   \\\\\n",
       "\\textbf{Df Model:}         &           2      & \\textbf{                     }          &             \\\\\n",
       "\\textbf{Covariance Type:}  &    nonrobust     & \\textbf{                     }          &             \\\\\n",
       "\\bottomrule\n",
       "\\end{tabular}\n",
       "\\begin{tabular}{lcccccc}\n",
       "            & \\textbf{coef} & \\textbf{std err} & \\textbf{t} & \\textbf{P$> |$t$|$} & \\textbf{[0.025} & \\textbf{0.975]}  \\\\\n",
       "\\midrule\n",
       "\\textbf{x2} &       0.3975  &        0.220     &     1.804  &         0.105        &       -0.101    &        0.896     \\\\\n",
       "\\textbf{x3} &       0.6419  &        0.071     &     9.041  &         0.000        &        0.481    &        0.802     \\\\\n",
       "\\bottomrule\n",
       "\\end{tabular}\n",
       "\\begin{tabular}{lclc}\n",
       "\\textbf{Omnibus:}       &  0.665 & \\textbf{  Durbin-Watson:     } &    2.603  \\\\\n",
       "\\textbf{Prob(Omnibus):} &  0.717 & \\textbf{  Jarque-Bera (JB):  } &    0.637  \\\\\n",
       "\\textbf{Skew:}          & -0.401 & \\textbf{  Prob(JB):          } &    0.727  \\\\\n",
       "\\textbf{Kurtosis:}      &  2.136 & \\textbf{  Cond. No.          } &     53.2  \\\\\n",
       "\\bottomrule\n",
       "\\end{tabular}\n",
       "%\\caption{OLS Regression Results}\n",
       "\\end{center}\n",
       "\n",
       "Notes: \\newline\n",
       " [1] R² is computed without centering (uncentered) since the model does not contain a constant. \\newline\n",
       " [2] Standard Errors assume that the covariance matrix of the errors is correctly specified."
      ],
      "text/plain": [
       "<class 'statsmodels.iolib.summary.Summary'>\n",
       "\"\"\"\n",
       "                                 OLS Regression Results                                \n",
       "=======================================================================================\n",
       "Dep. Variable:                     x1   R-squared (uncentered):                   1.000\n",
       "Model:                            OLS   Adj. R-squared (uncentered):              1.000\n",
       "Method:                 Least Squares   F-statistic:                          1.418e+04\n",
       "Date:                Wed, 23 Oct 2024   Prob (F-statistic):                    1.80e-16\n",
       "Time:                        15:10:39   Log-Likelihood:                         -26.465\n",
       "No. Observations:                  11   AIC:                                      56.93\n",
       "Df Residuals:                       9   BIC:                                      57.72\n",
       "Df Model:                           2                                                  \n",
       "Covariance Type:            nonrobust                                                  \n",
       "==============================================================================\n",
       "                 coef    std err          t      P>|t|      [0.025      0.975]\n",
       "------------------------------------------------------------------------------\n",
       "x2             0.3975      0.220      1.804      0.105      -0.101       0.896\n",
       "x3             0.6419      0.071      9.041      0.000       0.481       0.802\n",
       "==============================================================================\n",
       "Omnibus:                        0.665   Durbin-Watson:                   2.603\n",
       "Prob(Omnibus):                  0.717   Jarque-Bera (JB):                0.637\n",
       "Skew:                          -0.401   Prob(JB):                        0.727\n",
       "Kurtosis:                       2.136   Cond. No.                         53.2\n",
       "==============================================================================\n",
       "\n",
       "Notes:\n",
       "[1] R² is computed without centering (uncentered) since the model does not contain a constant.\n",
       "[2] Standard Errors assume that the covariance matrix of the errors is correctly specified.\n",
       "\"\"\""
      ]
     },
     "execution_count": 11,
     "metadata": {},
     "output_type": "execute_result"
    }
   ],
   "source": [
    "# 3 In the case of a linear regression model\n",
    "model = sm.OLS(y, X)  \n",
    "results = model.fit() \n",
    "results.summary() "
   ]
  },
  {
   "cell_type": "markdown",
   "metadata": {},
   "source": [
    "### переменная x2 является не значимой т.к p>0,05"
   ]
  },
  {
   "cell_type": "markdown",
   "metadata": {},
   "source": [
    "### как показыввает F статистика и p < 0,05 видно что x1 сильно зависит от x2 x3"
   ]
  },
  {
   "cell_type": "markdown",
   "metadata": {},
   "source": [
    "### Ридж-регрессия - это метод который подходит для ситуаций с высокой мультиколлинеарностью, так как он контролирует большие коэффициенты и уменьшает их влияние, что стабилизирует модель."
   ]
  },
  {
   "cell_type": "code",
   "execution_count": 12,
   "metadata": {},
   "outputs": [
    {
     "name": "stdout",
     "output_type": "stream",
     "text": [
      "F-statistic: 168.75489175633282\n"
     ]
    },
    {
     "name": "stdout",
     "output_type": "stream",
     "text": [
      "Feature: x2\n",
      "Mean Coefficient: 0.8384206359082972\n",
      "95% Confidence Interval: [0.21538158 1.41383418]\n",
      "Feature: x3\n",
      "Mean Coefficient: 0.3463319982602594\n",
      "95% Confidence Interval: [0.05823724 0.6178765 ]\n"
     ]
    }
   ],
   "source": [
    "# 3 In the case of ridge regression\n",
    "# Hyperparameter tuning for alpha using cross-validation\n",
    "ridge_cv = Ridge(alpha=0.9115888299750819)\n",
    "ridge_cv.fit(X, y) \n",
    "\n",
    "# Predictions and metrics for ridge regression\n",
    "y_pred = ridge_cv.predict(X) \n",
    "mse_ridge = mean_squared_error(y, y_pred)\n",
    "r2_ridge = r2_score(y, y_pred)\n",
    "\n",
    "# Evaluate MSE for the model without explanatory variables (mean of y)\n",
    "y_mean_pred = np.full_like(y, y.mean())  \n",
    "mse_baseline = mean_squared_error(y, y_mean_pred)  \n",
    "\n",
    "# F-statistic\n",
    "f_stat = ((mse_baseline - mse_ridge) / len(ridge_cv.coef_)) / (mse_ridge / (len(y) - len(ridge_cv.coef_) - 1))\n",
    "print(f\"F-statistic: {f_stat}\")  \n",
    "\n",
    "# Bootstrap for estimating the significance of coefficients\n",
    "n_iterations = 1000 \n",
    "coeffs = []\n",
    "\n",
    "for i in range(n_iterations):\n",
    "    X_resample, y_resample = resample(X, y)\n",
    "    ridge_cv.fit(X_resample, y_resample)  \n",
    "    coeffs.append(ridge_cv.coef_)\n",
    "\n",
    "# Mean and confidence intervals for the coefficients\n",
    "coeffs = np.array(coeffs)\n",
    "mean_coeffs = np.mean(coeffs, axis=0)  \n",
    "conf_intervals = np.percentile(coeffs, [2.5, 97.5], axis=0)\n",
    "\n",
    "for idx, feature in enumerate(X.columns):\n",
    "    print(f\"Feature: {feature}\")\n",
    "    print(f\"Mean Coefficient: {mean_coeffs[idx]}\")\n",
    "    print(f\"95% Confidence Interval: {conf_intervals[:, idx]}\")"
   ]
  },
  {
   "cell_type": "markdown",
   "metadata": {},
   "source": [
    "### В случае ридж регрессии и х2 и х3 являются значимыми коэффициентами. И значение F теста больше чем у ols а значит использоване ridge лучше в случае высокой корреляции коэффициентов"
   ]
  },
  {
   "cell_type": "markdown",
   "metadata": {},
   "source": []
  }
 ],
 "metadata": {
  "kernelspec": {
   "display_name": "math_stat",
   "language": "python",
   "name": "python3"
  },
  "language_info": {
   "codemirror_mode": {
    "name": "ipython",
    "version": 3
   },
   "file_extension": ".py",
   "mimetype": "text/x-python",
   "name": "python",
   "nbconvert_exporter": "python",
   "pygments_lexer": "ipython3",
   "version": "3.11.9"
  }
 },
 "nbformat": 4,
 "nbformat_minor": 2
}

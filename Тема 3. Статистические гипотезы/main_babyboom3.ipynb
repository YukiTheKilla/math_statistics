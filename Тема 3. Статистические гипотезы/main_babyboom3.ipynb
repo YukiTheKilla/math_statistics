{
 "cells": [
  {
   "cell_type": "code",
   "execution_count": 1,
   "metadata": {},
   "outputs": [],
   "source": [
    "import pandas as pd\n",
    "import seaborn as sns\n",
    "import numpy as np\n",
    "import os\n",
    "import scipy.stats as stats\n",
    "\n",
    "from matplotlib import pyplot as plt\n",
    "from sklearn.preprocessing import StandardScaler, LabelEncoder\n",
    "from statsmodels.stats.diagnostic import normal_ad"
   ]
  },
  {
   "cell_type": "code",
   "execution_count": 2,
   "metadata": {},
   "outputs": [
    {
     "name": "stdout",
     "output_type": "stream",
     "text": [
      "(44, 4)\n"
     ]
    },
    {
     "name": "stderr",
     "output_type": "stream",
     "text": [
      "/var/folders/19/c1rn4t0n4qn2h0cjhj9f9_3r0000gn/T/ipykernel_63382/104793328.py:1: FutureWarning: The 'delim_whitespace' keyword in pd.read_csv is deprecated and will be removed in a future version. Use ``sep='\\s+'`` instead\n",
      "  df = pd.read_csv(\"Задания/Datasets/babyboom.dat.txt\", delim_whitespace=True, header=None, on_bad_lines='skip')\n"
     ]
    },
    {
     "data": {
      "text/html": [
       "<div>\n",
       "<style scoped>\n",
       "    .dataframe tbody tr th:only-of-type {\n",
       "        vertical-align: middle;\n",
       "    }\n",
       "\n",
       "    .dataframe tbody tr th {\n",
       "        vertical-align: top;\n",
       "    }\n",
       "\n",
       "    .dataframe thead th {\n",
       "        text-align: right;\n",
       "    }\n",
       "</style>\n",
       "<table border=\"1\" class=\"dataframe\">\n",
       "  <thead>\n",
       "    <tr style=\"text-align: right;\">\n",
       "      <th></th>\n",
       "      <th>TimeOfBirth</th>\n",
       "      <th>Sex</th>\n",
       "      <th>Weight</th>\n",
       "      <th>MinutesAfterMidnight</th>\n",
       "    </tr>\n",
       "  </thead>\n",
       "  <tbody>\n",
       "    <tr>\n",
       "      <th>0</th>\n",
       "      <td>5</td>\n",
       "      <td>1</td>\n",
       "      <td>3837</td>\n",
       "      <td>5</td>\n",
       "    </tr>\n",
       "    <tr>\n",
       "      <th>1</th>\n",
       "      <td>104</td>\n",
       "      <td>1</td>\n",
       "      <td>3334</td>\n",
       "      <td>64</td>\n",
       "    </tr>\n",
       "    <tr>\n",
       "      <th>2</th>\n",
       "      <td>118</td>\n",
       "      <td>2</td>\n",
       "      <td>3554</td>\n",
       "      <td>78</td>\n",
       "    </tr>\n",
       "    <tr>\n",
       "      <th>3</th>\n",
       "      <td>155</td>\n",
       "      <td>2</td>\n",
       "      <td>3838</td>\n",
       "      <td>115</td>\n",
       "    </tr>\n",
       "    <tr>\n",
       "      <th>4</th>\n",
       "      <td>257</td>\n",
       "      <td>2</td>\n",
       "      <td>3625</td>\n",
       "      <td>177</td>\n",
       "    </tr>\n",
       "    <tr>\n",
       "      <th>5</th>\n",
       "      <td>405</td>\n",
       "      <td>1</td>\n",
       "      <td>2208</td>\n",
       "      <td>245</td>\n",
       "    </tr>\n",
       "    <tr>\n",
       "      <th>6</th>\n",
       "      <td>407</td>\n",
       "      <td>1</td>\n",
       "      <td>1745</td>\n",
       "      <td>247</td>\n",
       "    </tr>\n",
       "    <tr>\n",
       "      <th>7</th>\n",
       "      <td>422</td>\n",
       "      <td>2</td>\n",
       "      <td>2846</td>\n",
       "      <td>262</td>\n",
       "    </tr>\n",
       "    <tr>\n",
       "      <th>8</th>\n",
       "      <td>431</td>\n",
       "      <td>2</td>\n",
       "      <td>3166</td>\n",
       "      <td>271</td>\n",
       "    </tr>\n",
       "    <tr>\n",
       "      <th>9</th>\n",
       "      <td>708</td>\n",
       "      <td>2</td>\n",
       "      <td>3520</td>\n",
       "      <td>428</td>\n",
       "    </tr>\n",
       "    <tr>\n",
       "      <th>10</th>\n",
       "      <td>735</td>\n",
       "      <td>2</td>\n",
       "      <td>3380</td>\n",
       "      <td>455</td>\n",
       "    </tr>\n",
       "    <tr>\n",
       "      <th>11</th>\n",
       "      <td>812</td>\n",
       "      <td>2</td>\n",
       "      <td>3294</td>\n",
       "      <td>492</td>\n",
       "    </tr>\n",
       "    <tr>\n",
       "      <th>12</th>\n",
       "      <td>814</td>\n",
       "      <td>1</td>\n",
       "      <td>2576</td>\n",
       "      <td>494</td>\n",
       "    </tr>\n",
       "    <tr>\n",
       "      <th>13</th>\n",
       "      <td>909</td>\n",
       "      <td>1</td>\n",
       "      <td>3208</td>\n",
       "      <td>549</td>\n",
       "    </tr>\n",
       "    <tr>\n",
       "      <th>14</th>\n",
       "      <td>1035</td>\n",
       "      <td>2</td>\n",
       "      <td>3521</td>\n",
       "      <td>635</td>\n",
       "    </tr>\n",
       "    <tr>\n",
       "      <th>15</th>\n",
       "      <td>1049</td>\n",
       "      <td>1</td>\n",
       "      <td>3746</td>\n",
       "      <td>649</td>\n",
       "    </tr>\n",
       "    <tr>\n",
       "      <th>16</th>\n",
       "      <td>1053</td>\n",
       "      <td>1</td>\n",
       "      <td>3523</td>\n",
       "      <td>653</td>\n",
       "    </tr>\n",
       "    <tr>\n",
       "      <th>17</th>\n",
       "      <td>1133</td>\n",
       "      <td>2</td>\n",
       "      <td>2902</td>\n",
       "      <td>693</td>\n",
       "    </tr>\n",
       "    <tr>\n",
       "      <th>18</th>\n",
       "      <td>1209</td>\n",
       "      <td>2</td>\n",
       "      <td>2635</td>\n",
       "      <td>729</td>\n",
       "    </tr>\n",
       "    <tr>\n",
       "      <th>19</th>\n",
       "      <td>1256</td>\n",
       "      <td>2</td>\n",
       "      <td>3920</td>\n",
       "      <td>776</td>\n",
       "    </tr>\n",
       "  </tbody>\n",
       "</table>\n",
       "</div>"
      ],
      "text/plain": [
       "    TimeOfBirth  Sex  Weight  MinutesAfterMidnight\n",
       "0             5    1    3837                     5\n",
       "1           104    1    3334                    64\n",
       "2           118    2    3554                    78\n",
       "3           155    2    3838                   115\n",
       "4           257    2    3625                   177\n",
       "5           405    1    2208                   245\n",
       "6           407    1    1745                   247\n",
       "7           422    2    2846                   262\n",
       "8           431    2    3166                   271\n",
       "9           708    2    3520                   428\n",
       "10          735    2    3380                   455\n",
       "11          812    2    3294                   492\n",
       "12          814    1    2576                   494\n",
       "13          909    1    3208                   549\n",
       "14         1035    2    3521                   635\n",
       "15         1049    1    3746                   649\n",
       "16         1053    1    3523                   653\n",
       "17         1133    2    2902                   693\n",
       "18         1209    2    2635                   729\n",
       "19         1256    2    3920                   776"
      ]
     },
     "execution_count": 2,
     "metadata": {},
     "output_type": "execute_result"
    }
   ],
   "source": [
    "df = pd.read_csv(\"Задания/Datasets/babyboom.dat.txt\", delim_whitespace=True, header=None, on_bad_lines='skip')\n",
    "df.columns = ['TimeOfBirth', 'Sex', 'Weight', 'MinutesAfterMidnight']\n",
    "print(df.shape)\n",
    "df.head(20)"
   ]
  },
  {
   "cell_type": "code",
   "execution_count": 3,
   "metadata": {},
   "outputs": [
    {
     "name": "stdout",
     "output_type": "stream",
     "text": [
      "<class 'pandas.core.frame.DataFrame'>\n",
      "RangeIndex: 44 entries, 0 to 43\n",
      "Data columns (total 4 columns):\n",
      " #   Column                Non-Null Count  Dtype\n",
      "---  ------                --------------  -----\n",
      " 0   TimeOfBirth           44 non-null     int64\n",
      " 1   Sex                   44 non-null     int64\n",
      " 2   Weight                44 non-null     int64\n",
      " 3   MinutesAfterMidnight  44 non-null     int64\n",
      "dtypes: int64(4)\n",
      "memory usage: 1.5 KB\n"
     ]
    }
   ],
   "source": [
    "df.info()"
   ]
  },
  {
   "cell_type": "code",
   "execution_count": 4,
   "metadata": {},
   "outputs": [
    {
     "data": {
      "text/plain": [
       "TimeOfBirth             0\n",
       "Sex                     0\n",
       "Weight                  0\n",
       "MinutesAfterMidnight    0\n",
       "dtype: int64"
      ]
     },
     "execution_count": 4,
     "metadata": {},
     "output_type": "execute_result"
    }
   ],
   "source": [
    "data = df.copy()\n",
    "df.isnull().sum()"
   ]
  },
  {
   "cell_type": "code",
   "execution_count": 5,
   "metadata": {},
   "outputs": [],
   "source": [
    "boys_data = df[df['Sex'] == 2]\n",
    "girl_data = df[df['Sex'] == 1]"
   ]
  },
  {
   "cell_type": "code",
   "execution_count": 6,
   "metadata": {},
   "outputs": [
    {
     "data": {
      "image/png": "[encoded data removed]",
      "text/plain": [
       "<Figure size 800x500 with 1 Axes>"
      ]
     },
     "metadata": {},
     "output_type": "display_data"
    },
    {
     "data": {
      "image/png": "[encoded data removed]",
      "text/plain": [
       "<Figure size 800x500 with 1 Axes>"
      ]
     },
     "metadata": {},
     "output_type": "display_data"
    }
   ],
   "source": [
    "plt.figure(figsize=(8, 5))\n",
    "sns.histplot(boys_data['Weight'], kde=True, color='orange', kde_kws={'bw_adjust': 0.5})  \n",
    "# kde=True adds a density line\n",
    "# bw_adjust adjusts the level of smoothing for the KDE\n",
    "plt.title(f'Histogram for Weight of Boys')\n",
    "plt.show()\n",
    "\n",
    "plt.figure(figsize=(8, 5))\n",
    "sns.histplot(girl_data['Weight'], kde=True, color='orange', kde_kws={'bw_adjust': 0.5})  \n",
    "# kde=True adds a density line\n",
    "# bw_adjust adjusts the level of smoothing for the KDE\n",
    "plt.title(f'Histogram for Weight of Girls')\n",
    "plt.show()"
   ]
  },
  {
   "cell_type": "code",
   "execution_count": 7,
   "metadata": {},
   "outputs": [
    {
     "name": "stdout",
     "output_type": "stream",
     "text": [
      "Shapiro-Wilk test for boys:\n",
      "Statistic: 0.9474738942208476 p-value: 0.20224825440795427\n",
      "The data is normally distributed.\n",
      "Shapiro-Wilk test for girls:\n",
      "Statistic: 0.8702829450561838 p-value: 0.017984789994719325\n",
      "The data is not normally distributed.\n"
     ]
    }
   ],
   "source": [
    "# Shapiro-Wilk test for boys' weight\n",
    "stat, p = stats.shapiro(boys_data['Weight'])\n",
    "print('Shapiro-Wilk test for boys:')\n",
    "print('Statistic:', stat, 'p-value:', p)\n",
    "if p < 0.05:\n",
    "    print(\"The data is not normally distributed.\")\n",
    "if p > 0.05:\n",
    "    print(\"The data is normally distributed.\")\n",
    "\n",
    "# Shapiro-Wilk test for girls' weight\n",
    "stat, p = stats.shapiro(girl_data['Weight'])\n",
    "print('Shapiro-Wilk test for girls:')\n",
    "print('Statistic:', stat, 'p-value:', p)\n",
    "if p < 0.05:\n",
    "    print(\"The data is not normally distributed.\")\n",
    "if p > 0.05:\n",
    "    print(\"The data is normally distributed.\")"
   ]
  },
  {
   "cell_type": "markdown",
   "metadata": {},
   "source": [
    "**Т.к вес девочек имеет не нормальное распределение будем использовать непараметрические методы.**"
   ]
  },
  {
   "cell_type": "code",
   "execution_count": 8,
   "metadata": {},
   "outputs": [
    {
     "name": "stdout",
     "output_type": "stream",
     "text": [
      "H-statistic: 0.889093995408741\n",
      "P-value: 0.3457229446672261\n",
      "Failed to reject the null hypothesis: the distributions are not different.\n"
     ]
    }
   ],
   "source": [
    "# Conducting the Kruskal-Wallis test\n",
    "h_statistic, p_value = stats.kruskal(girl_data['Weight'], boys_data['Weight'])\n",
    "\n",
    "print(f\"H-statistic: {h_statistic}\")\n",
    "print(f\"P-value: {p_value}\")\n",
    "\n",
    "alpha = 0.05\n",
    "if p_value < alpha:\n",
    "    print(\"Reject the null hypothesis: the distributions are different.\")\n",
    "else:\n",
    "    print(\"Failed to reject the null hypothesis: the distributions are not different.\")"
   ]
  },
  {
   "cell_type": "markdown",
   "metadata": {},
   "source": []
  },
  {
   "cell_type": "code",
   "execution_count": 9,
   "metadata": {},
   "outputs": [
    {
     "name": "stdout",
     "output_type": "stream",
     "text": [
      "Levene's Statistic: 1.8154103472308154\n",
      "Levene's p-value: 0.18508483634639278\n",
      "Failed to reject the null hypothesis: the variances are not different.\n"
     ]
    }
   ],
   "source": [
    "# Conducting Levene's test for equality of variances\n",
    "levene_statistic, levene_p_value = stats.levene(girl_data['Weight'], boys_data['Weight'])\n",
    "\n",
    "print(f\"Levene's Statistic: {levene_statistic}\")\n",
    "print(f\"Levene's p-value: {levene_p_value}\")\n",
    "\n",
    "alpha = 0.05\n",
    "if levene_p_value < alpha:\n",
    "    print(\"Reject the null hypothesis: the variances are different.\")\n",
    "else:\n",
    "    print(\"Failed to reject the null hypothesis: the variances are not different.\")"
   ]
  },
  {
   "cell_type": "markdown",
   "metadata": {},
   "source": [
    "\n",
    "**Формула теста Левене**\n",
    "$$F = \\frac{\\frac{\\sum_{i=1}^{k} n_i (\\tilde{d}i - \\tilde{d})^2}{k - 1}}{\\frac{\\sum{i=1}^{k} \\sum_{j=1}^{n_i} (d_{ij} - \\tilde{d}_i)^2}{N - k}}\n"
   ]
  }
 ],
 "metadata": {
  "kernelspec": {
   "display_name": "math_stat",
   "language": "python",
   "name": "python3"
  },
  "language_info": {
   "codemirror_mode": {
    "name": "ipython",
    "version": 3
   },
   "file_extension": ".py",
   "mimetype": "text/x-python",
   "name": "python",
   "nbconvert_exporter": "python",
   "pygments_lexer": "ipython3",
   "version": "3.11.9"
  }
 },
 "nbformat": 4,
 "nbformat_minor": 2
}
